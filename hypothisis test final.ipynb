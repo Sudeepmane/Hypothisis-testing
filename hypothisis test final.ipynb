{
 "cells": [
  {
   "cell_type": "markdown",
   "id": "44c502a0-b2c7-49b6-ac32-8b12c91d0eee",
   "metadata": {},
   "source": [
    "# Hypothisis test"
   ]
  },
  {
   "cell_type": "code",
   "execution_count": null,
   "id": "a3e6ce85-0446-4ee7-91df-be552242a37a",
   "metadata": {},
   "outputs": [],
   "source": [
    "#State the Hypotheses statement:\n",
    "#Null Hypothesis: The weekly operating cost is equal to the theoretical cost model.\n",
    "#Alternative Hypothesis: The weekly operating cost is greater than the theoretical cost model.\n"
   ]
  },
  {
   "cell_type": "code",
   "execution_count": null,
   "id": "802173ce-5173-4528-ad49-952607d15157",
   "metadata": {},
   "outputs": [],
   "source": [
    "#Calculate the Test Statistic:\n",
    "#xbar= sample mean weekly cost (Rs. 3,050)\n",
    "#population = theoretical mean weekly cost according to the cost model (W = $1,000 + $5X for X = 600 units)\n",
    "#std = 5*25 units\n",
    "#n =sample size (25 restaurants)\n"
   ]
  },
  {
   "cell_type": "code",
   "execution_count": 1,
   "id": "676ed87e-cc0b-45ef-8cfe-c02939dc9c61",
   "metadata": {},
   "outputs": [
    {
     "name": "stdout",
     "output_type": "stream",
     "text": [
      "Test Statistic: -38.00\n",
      "Critical Value: 1.64\n",
      "Decision: Fail to reject the null hypothesis.\n"
     ]
    }
   ],
   "source": [
    "import math\n",
    "from scipy import stats\n",
    "\n",
    "# Given data\n",
    "sample_mean = 3050  # Rs.\n",
    "theoretical_mean = 1000 + 5 * 600  # Rs.\n",
    "std_dev = 5 * 25  # Rs.\n",
    "n = 25  # sample size\n",
    "alpha = 0.05\n",
    "\n",
    "# Calculate the test statistic\n",
    "t_stat = (sample_mean - theoretical_mean) / (std_dev / math.sqrt(n))\n",
    "\n",
    "# Critical value for a one-tailed test with alpha = 0.05\n",
    "critical_value = stats.norm.ppf(1 - alpha)\n",
    "\n",
    "# Decision\n",
    "if t_stat > critical_value:\n",
    "    decision = \"Reject the null hypothesis.\"\n",
    "else:\n",
    "    decision = \"Fail to reject the null hypothesis.\"\n",
    "\n",
    "# Output results\n",
    "print(f\"Test Statistic: {t_stat:.2f}\")\n",
    "print(f\"Critical Value: {critical_value:.2f}\")\n",
    "print(f\"Decision: {decision}\")\n"
   ]
  },
  {
   "cell_type": "code",
   "execution_count": null,
   "id": "306efa33-7097-4bcc-a041-285e0f8506d8",
   "metadata": {},
   "outputs": [],
   "source": [
    "#conclusionThere is no strong evidence to support the restaurant owners' claim that the weekly operating costs are higher than what the model suggests.\n",
    "#Therefore, based on the sample data, the theoretical cost model still holds. "
   ]
  },
  {
   "cell_type": "markdown",
   "id": "4d5c3285-4c7c-47c8-a92a-9958728c7f4c",
   "metadata": {},
   "source": [
    "# Chisquare test"
   ]
  },
  {
   "cell_type": "code",
   "execution_count": null,
   "id": "de3679d4-2c6d-4eb3-b213-c9876fcb5308",
   "metadata": {},
   "outputs": [],
   "source": [
    "#Null Hypothesis:There is no association between the type of device and customer satisfaction.\n",
    "#Alternative Hypothesis:There is an association between the type of device and customer satisfaction."
   ]
  },
  {
   "cell_type": "code",
   "execution_count": 5,
   "id": "82f51e51-123a-4846-b039-0ac028efdd0a",
   "metadata": {},
   "outputs": [
    {
     "name": "stdout",
     "output_type": "stream",
     "text": [
      "Chi-Square Statistic: 5.64\n",
      "Critical Value: 9.49\n",
      "Degrees of Freedom: 4\n",
      "P-value: 0.2278\n",
      "Decision: Fail to reject the null hypothesis.\n"
     ]
    }
   ],
   "source": [
    "import numpy as np\n",
    "from scipy.stats import chi2_contingency\n",
    "\n",
    "# Contingency table\n",
    "data = np.array([[50, 70],\n",
    "                 [80, 100],\n",
    "                 [60, 90],\n",
    "                 [30, 50],\n",
    "                 [20, 50]])\n",
    "\n",
    "# Perform the Chi-Square test\n",
    "chi2, p, dof, expected = chi2_contingency(data)\n",
    "\n",
    "# Set significance level\n",
    "alpha = 0.05\n",
    "\n",
    "# Determine the critical value\n",
    "critical_value = stats.chi2.ppf(1 - alpha, dof)\n",
    "\n",
    "# Decision\n",
    "if chi2 > critical_value:\n",
    "    decision = \"Reject the null hypothesis.\"\n",
    "else:\n",
    "    decision = \"Fail to reject the null hypothesis.\"\n",
    "\n",
    "# Output results\n",
    "print(f\"Chi-Square Statistic: {chi2:.2f}\")\n",
    "print(f\"Critical Value: {critical_value:.2f}\")\n",
    "print(f\"Degrees of Freedom: {dof}\")\n",
    "print(f\"P-value: {p:.4f}\")\n",
    "print(f\"Decision: {decision}\")\n"
   ]
  },
  {
   "cell_type": "code",
   "execution_count": null,
   "id": "bcb7da14-999d-4618-936b-9df0b0197edf",
   "metadata": {},
   "outputs": [],
   "source": [
    "#Conclusion: We fail to reject the null hypothesis. This suggests that there is no significant association between \n",
    "#the type of device purchased and customer satisfaction.The customer satisfaction levels are independent of the type of device. "
   ]
  }
 ],
 "metadata": {
  "kernelspec": {
   "display_name": "Python 3 (ipykernel)",
   "language": "python",
   "name": "python3"
  },
  "language_info": {
   "codemirror_mode": {
    "name": "ipython",
    "version": 3
   },
   "file_extension": ".py",
   "mimetype": "text/x-python",
   "name": "python",
   "nbconvert_exporter": "python",
   "pygments_lexer": "ipython3",
   "version": "3.12.4"
  }
 },
 "nbformat": 4,
 "nbformat_minor": 5
}
